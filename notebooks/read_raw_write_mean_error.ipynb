{
 "cells": [
  {
   "cell_type": "code",
   "execution_count": null,
   "metadata": {
    "collapsed": true
   },
   "outputs": [],
   "source": [
    "# this cell reads the chunks files where data is organised in columns as follows\n",
    "# L, time, realisations in this chunk, moment1, moment2, moment3, moment4, moment5, moment6\n",
    "# the name of the files contains *time_moments*\n",
    "# this cell computes the mean and standard errorof the mean of each moment and writes the result in a file\n",
    "# with probability 1 this piece of code can be made more efficient\n",
    "\n",
    "import pandas as pd #this is for tabular data munging\n",
    "import numpy as np#\n",
    "import glob # file listings\n",
    "#import matplotlib.pyplot as plt\n",
    "\n",
    "#%matplotlib inline\n",
    "\n",
    "def filterdf(df):\n",
    "    return df.tail(2)\n",
    "\n",
    "systemsize = 63\n",
    "L=str(systemsize)\n",
    "result = []\n",
    "for i in range(5,11): # iterate through the different time series we are interested in\n",
    "                      # (in this case, every column corresponds to a different time series)\n",
    "    alldfs = []\n",
    "    s = 0\n",
    "    for f in glob.glob('./../L'+L+'/*time_moments*'): #iterate through all the files containing *time_moments*\n",
    "        df = pd.read_csv(f, sep=\"\\t\", comment=\"#\", header=None) #read the file\n",
    "        dfi = df.ix[:,i] #extract the time series in column i\n",
    "        alldfs.append(dfi) #append time series to alldfs\n",
    "        if (len(dfi)>s):\n",
    "            t = df.ix[:,2] # read the time column in the time series and keep the longest one (all time series share the\n",
    "                           # same temporal separation but the final time of the realisations is different in each series)\n",
    "            s = len(dfi)\n",
    "\n",
    "    ndf = pd.concat(alldfs,axis=1)\n",
    "    [rows,cols] = ndf.shape\n",
    "    ndf.columns = list(range(cols))\n",
    "\n",
    "    l = min(pd.isnull(ndf).any(1).nonzero()[0])\n",
    "    for j in range(0,cols): #complete those time series that finished before the others by copying the las value\n",
    "        for k in range(l,rows):\n",
    "            if pd.isnull(ndf.ix[k,j]):\n",
    "                ndf.ix[k,j] = ndf.ix[k-1,j]\n",
    "\n",
    "    N = cols\n",
    "    dfmean = np.mean(ndf,axis=1) #compute the columns of mean values\n",
    "    dfstd = np.std(ndf,axis=1) #compute the column of variances\n",
    "    error = dfstd/np.sqrt(N) #compute the column of errors\n",
    "    if (i == 5): #copy the time column only once, in the first loop\n",
    "        result.append(t)\n",
    "    result.append(dfmean) #copy the column of means\n",
    "    result.append(error) #copy the column of errors\n",
    "    \n",
    "df = pd.DataFrame(result).transpose()\n",
    "df['L'] = systemsize\n",
    "df.columns=['time','1mom','1mom_err','2mom','2mom_err','3mom','3mom_err','4mom','4mom_err','5mom','5mom_err','6mom','6mom_err', '#L']\n",
    "cols = df.columns.tolist()\n",
    "cols = cols[-1:] + cols[:-1]\n",
    "df = df[cols]  #    OR    df = df.ix[:, cols]\n",
    "#df.to_csv('./codev6_20161118/results/elaborated_results/L32767_radius_gyration_moments_errors.dat',sep='\\t',index=False)\n",
    "df.to_csv('./L'+L+'_visited_sites_moments_errors.dat',sep='\\t',index=False) #save in file\n",
    "#df"
   ]
  }
 ],
 "metadata": {
  "kernelspec": {
   "display_name": "Python 3",
   "language": "python",
   "name": "python3"
  },
  "language_info": {
   "codemirror_mode": {
    "name": "ipython",
    "version": 3
   },
   "file_extension": ".py",
   "mimetype": "text/x-python",
   "name": "python",
   "nbconvert_exporter": "python",
   "pygments_lexer": "ipython3",
   "version": "3.5.2"
  }
 },
 "nbformat": 4,
 "nbformat_minor": 1
}
