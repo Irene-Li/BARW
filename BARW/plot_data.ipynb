{
 "cells": [
  {
   "cell_type": "code",
   "execution_count": 1,
   "id": "0711db99",
   "metadata": {},
   "outputs": [
    {
     "name": "stderr",
     "output_type": "stream",
     "text": [
      "\n",
      "Bad key \"text.kerning_factor\" on line 4 in\n",
      "/Users/yutingli/opt/anaconda3/lib/python3.7/site-packages/matplotlib/mpl-data/stylelib/_classic_test_patch.mplstyle.\n",
      "You probably need to get an updated matplotlibrc file from\n",
      "https://github.com/matplotlib/matplotlib/blob/v3.1.2/matplotlibrc.template\n",
      "or from the matplotlib source distribution\n"
     ]
    }
   ],
   "source": [
    "import numpy as np\n",
    "from matplotlib import pyplot as plt\n",
    "from matplotlib import animation as am"
   ]
  },
  {
   "cell_type": "code",
   "execution_count": 7,
   "id": "ad1a146a",
   "metadata": {},
   "outputs": [
    {
     "name": "stdout",
     "output_type": "stream",
     "text": [
      "#Parameters={ Seed: 5, Branching rate: 0.4, p : 0.8, q : 0.1, Realisations: 10, Chunk size: 10, Dimension: 2, (Max) Lattice size: 257, Graph Type: 0 }\n",
      "\n",
      "#Version: #f883\n",
      "\n",
      "# Running for L = 257\n",
      "\n",
      "# Starting the 0 th realisation \n",
      "\n",
      "# Starting the 1 th realisation \n",
      "\n",
      "# Starting the 2 th realisation \n",
      "\n",
      "# Starting the 3 th realisation \n",
      "\n",
      "# Starting the 4 th realisation \n",
      "\n",
      "# Starting the 5 th realisation \n",
      "\n",
      "# Starting the 6 th realisation \n",
      "\n",
      "# Starting the 7 th realisation \n",
      "\n",
      "# Starting the 8 th realisation \n",
      "\n",
      "# Starting the 9 th realisation \n",
      "\n",
      "#Writing moments: \n",
      "\n",
      "# Info: count_full_resets=0 and count_cache_resets=10\n",
      "\n",
      "#okely dokely!\n"
     ]
    }
   ],
   "source": [
    "\n",
    "label = 'h_0.4_p_0.8_q_0.1'\n",
    "file = open(\"data_{}.txt\".format(label))\n",
    "\n",
    "realisations = []\n",
    "moments = [] \n",
    "realisation_flag = False \n",
    "moments_flag = False\n",
    "L = 257\n",
    "\n",
    "n = 0 \n",
    "\n",
    "line = file.readline() \n",
    "while line: \n",
    "    if line[0] == '#':\n",
    "        print(line)\n",
    "        if line.startswith('# Starting'):\n",
    "            realisation_flag = True \n",
    "        if line.startswith('#Writing'): \n",
    "            moments_flag = True \n",
    "    else: \n",
    "        if moments_flag: \n",
    "            moments.append(line)\n",
    "        elif realisation_flag: \n",
    "            new_realisation = [line]\n",
    "            realisations.append(new_realisation)\n",
    "            realisation_flag = False\n",
    "        else:\n",
    "            new_realisation.append(line)   \n",
    "    line = file.readline()"
   ]
  },
  {
   "cell_type": "code",
   "execution_count": 8,
   "id": "66d0fa04",
   "metadata": {},
   "outputs": [],
   "source": [
    "def extract_lite(realisation): \n",
    "    total_active = [] \n",
    "    total_tracer = [] \n",
    "    tracer_snapshot = np.zeros((L, L)) \n",
    "    time = [] \n",
    "    flag = False \n",
    "\n",
    "    for line in realisation:  \n",
    "        if line.startswith('time'):\n",
    "            time.append(float(line[5:-1]))\n",
    "        elif line.startswith('total active'):\n",
    "            total_active.append(float(line[13:-1]))\n",
    "        elif line.startswith('total tracer'):\n",
    "            total_tracer.append(float(line[13:-1]))\n",
    "        elif line.startswith('passive'):\n",
    "            passive_indices = np.fromstring(line[8:-1], sep=',')\n",
    "            passive_indices = np.unravel_index(passive_indices.astype('int'), (L, L))\n",
    "        elif line.startswith('coarse_grain_tracer'):\n",
    "            flag = True \n",
    "    \n",
    "    tracer_snapshot[passive_indices] = 1 # set occupied sites to -1     \n",
    "    return time, total_active, total_tracer, tracer_snapshot\n",
    "\n",
    "def extract_moments(moments): \n",
    "    active_moments = [] \n",
    "    tracer_moments = [] \n",
    "    active_flag = False \n",
    "    tracer_flag = False \n",
    "    \n",
    "    for line in moments: \n",
    "        if line.startswith(' active moments'):\n",
    "            active_flag = True \n",
    "        elif line.startswith('tracer moments'):\n",
    "            active_flag = False \n",
    "            tracer_flag = True \n",
    "        else: \n",
    "            if active_flag: \n",
    "                active_moments.append(np.fromstring(line, sep='\\t'))\n",
    "            if tracer_flag: \n",
    "                tracer_moments.append(np.fromstring(line, sep='\\t'))\n",
    "    return np.vstack(active_moments), np.vstack(tracer_moments)\n",
    "        \n",
    "def extract_evolution(realisation): \n",
    "    tracers = []\n",
    "    active_particles = [] \n",
    "    edges = [] \n",
    "    msds = [] \n",
    "    total_active = [] \n",
    "    total_tracer = [] \n",
    "    time = [] \n",
    "    passive_flag = False \n",
    "    active_flag = False\n",
    "    for line in realisation:  \n",
    "        if line.startswith('time'):\n",
    "            time.append(float(line[5:-1]))\n",
    "        elif line.startswith('total active'):\n",
    "            total_active.append(float(line[13:-1]))\n",
    "        elif line.startswith('total tracer'):\n",
    "            total_tracer.append(float(line[13:-1]))\n",
    "        elif line.startswith('passive'):\n",
    "            passive_indices = np.fromstring(line[8:-1], sep=',')\n",
    "            passive_indices = np.unravel_index(passive_indices.astype('int'), (L, L))\n",
    "            passive_flag = True \n",
    "        elif line.startswith('active'):\n",
    "            active_indices = np.fromstring(line[7:-1], sep=',')\n",
    "            active_indices = np.unravel_index(active_indices.astype('int'), (L, L))\n",
    "            active_flag = True \n",
    "        elif line.startswith('msd'):\n",
    "            msds.append(float(line[4:-1]))\n",
    "        elif line.startswith('edge'): \n",
    "            edges.append(np.fromstring(line[5:-1], sep=','))\n",
    "        else: \n",
    "            tracer_snapshot = np.zeros((L, L)) # clear the snapshot for the next time slice \n",
    "            active_snapshot = np.zeros((L, L)) \n",
    "            \n",
    "        if passive_flag and active_flag: \n",
    "            tracer_snapshot[passive_indices] = 1 # set occupied sites to -1 \n",
    "            \n",
    "            for (i,j) in zip(*active_indices):\n",
    "                active_snapshot[i, j] += 1 \n",
    "            tracers.append(tracer_snapshot)\n",
    "            active_particles.append(active_snapshot)\n",
    "            passive_flag = False \n",
    "            active_flag = False \n",
    "            \n",
    "    return np.array(edges), np.array(msds), np.array(counts), np.array(tracers), np.array(active_particles)\n",
    "\n",
    "def make_movies(evolution, label):\n",
    "    fig = plt.figure(figsize=(20, 20))\n",
    "    ims = []\n",
    "    plt.axis('off')\n",
    "    for xy in evolution:\n",
    "        im = plt.imshow(xy, animated=True, vmin=0, vmax=2, cmap='Blues', origin='lower') \n",
    "        plt.axis('off')\n",
    "        ims.append([im])\n",
    "        \n",
    "    ani = am.ArtistAnimation(fig, ims, interval=100, blit=True,\n",
    "                                    repeat_delay=1000)\n",
    "    mywriter = am.FFMpegWriter()\n",
    "    ani.save(\"{}_movie_{}.mp4\".format(label, i), writer=mywriter)\n",
    "    plt.close()  \n",
    "    \n",
    "    \n",
    "def pad(nested_lists): \n",
    "    max_length = max(map(len, nested_lists))\n",
    "    for l in nested_lists: \n",
    "        length = len(l)\n",
    "        if length == 0: \n",
    "            raise Exception('no time series data recorded')\n",
    "        elif length < max_length: \n",
    "            l.extend([l[-1]]*(max_length-length))\n",
    "    return np.vstack(nested_lists)\n",
    "\n",
    "def select_longest(times): \n",
    "    return max(times, key=lambda x:len(x))\n",
    "    \n",
    "    "
   ]
  },
  {
   "cell_type": "code",
   "execution_count": 9,
   "id": "b9961d98",
   "metadata": {},
   "outputs": [
    {
     "data": {
      "image/png": "[encoded data removed]",
      "text/plain": [
       "<Figure size 432x288 with 1 Axes>"
      ]
     },
     "metadata": {
      "needs_background": "light"
     },
     "output_type": "display_data"
    },
    {
     "data": {
      "image/png": "[encoded data removed]",
      "text/plain": [
       "<Figure size 432x288 with 1 Axes>"
      ]
     },
     "metadata": {
      "needs_background": "light"
     },
     "output_type": "display_data"
    }
   ],
   "source": [
    "# print(moments)\n",
    "active_moments, tracer_moments = extract_moments(moments)\n",
    "\n",
    "plt.plot(active_moments[:, 2])\n",
    "plt.show() \n",
    "\n",
    "plt.plot(tracer_moments[:, 2])\n",
    "plt.show() "
   ]
  },
  {
   "cell_type": "code",
   "execution_count": 10,
   "id": "6e8319d4",
   "metadata": {},
   "outputs": [
    {
     "data": {
      "text/plain": [
       "<matplotlib.image.AxesImage at 0x10ee0aa10>"
      ]
     },
     "execution_count": 10,
     "metadata": {},
     "output_type": "execute_result"
    },
    {
     "data": {
      "image/png": "[encoded data removed]",
      "text/plain": [
       "<Figure size 432x288 with 1 Axes>"
      ]
     },
     "metadata": {
      "needs_background": "light"
     },
     "output_type": "display_data"
    }
   ],
   "source": [
    "actives = [] \n",
    "tracers = [] \n",
    "tracer_snapshots = [] \n",
    "times = [] \n",
    "tracer_gdf = []\n",
    "\n",
    "for (i, realisation) in enumerate(realisations):\n",
    "\n",
    "    time, total_active, total_tracer, tracer_snapshot = extract_lite(realisation)\n",
    "    times.append(time)\n",
    "    actives.append(total_active)\n",
    "    tracers.append(total_tracer)\n",
    "    tracer_snapshots.append(tracer_snapshot)\n",
    "\n",
    "plt.imshow(tracer_snapshots[1])"
   ]
  },
  {
   "cell_type": "code",
   "execution_count": null,
   "id": "f63de575",
   "metadata": {},
   "outputs": [],
   "source": []
  }
 ],
 "metadata": {
  "interpreter": {
   "hash": "19b1aa1b692cdef03d90a74782f0eca296ee162ca885dfc0f3cb4cd28eccf7bf"
  },
  "kernelspec": {
   "display_name": "Python 3",
   "language": "python",
   "name": "python3"
  },
  "language_info": {
   "codemirror_mode": {
    "name": "ipython",
    "version": 3
   },
   "file_extension": ".py",
   "mimetype": "text/x-python",
   "name": "python",
   "nbconvert_exporter": "python",
   "pygments_lexer": "ipython3",
   "version": "3.7.9"
  }
 },
 "nbformat": 4,
 "nbformat_minor": 5
}
