{
 "cells": [
  {
   "cell_type": "code",
   "execution_count": 1,
   "id": "0ae7e6f0",
   "metadata": {},
   "outputs": [],
   "source": [
    "import numpy as np\n",
    "from matplotlib import pyplot as plt\n",
    "from matplotlib import animation as am"
   ]
  },
  {
   "cell_type": "code",
   "execution_count": 2,
   "id": "0d861a29",
   "metadata": {},
   "outputs": [
    {
     "name": "stdout",
     "output_type": "stream",
     "text": [
      "#Parameters={ Seed: 5, Hopping rate: 0.5, Realisations: 5, Chunk size: 5, Dimension: 2, (Max) Lattice size: 63, Graph Type: 0 }\n",
      "\n",
      "#Version: #e4e6\n",
      "\n",
      "# Running for L = 63\n",
      "\n",
      "# Starting the 0 th realisation \n",
      "\n",
      "# Starting the 1 th realisation \n",
      "\n",
      "# Starting the 2 th realisation \n",
      "\n",
      "# Starting the 3 th realisation \n",
      "\n",
      "# Starting the 4 th realisation \n",
      "\n",
      "#okely dokely!\n"
     ]
    }
   ],
   "source": [
    "file = open(\"data_h_0.5.txt\")\n",
    "\n",
    "realisations = [] \n",
    "flag = True \n",
    "L = 63\n",
    "\n",
    "for line in file.readlines(): \n",
    "    if line[0] == '#':\n",
    "        flag = True \n",
    "        print(line)\n",
    "    else: \n",
    "        if flag:  \n",
    "            new_realisation = [line]\n",
    "            realisations.append(new_realisation)\n",
    "            flag = False\n",
    "        else:\n",
    "            new_realisation.append(line)"
   ]
  },
  {
   "cell_type": "code",
   "execution_count": 3,
   "id": "b6014c78",
   "metadata": {},
   "outputs": [],
   "source": [
    "for (i, realisation) in enumerate(realisations):\n",
    "    fig = plt.figure()\n",
    "    ims = []\n",
    "    xy = np.zeros((L, L))\n",
    "    im = plt.imshow(xy, animated=True)\n",
    "    plt.axis('off')\n",
    "    ims.append([im])\n",
    "    for line in realisation: \n",
    "        temp = np.fromstring(line[:-1], sep=',')\n",
    "        t = temp[0]\n",
    "        indices = np.unravel_index(temp[1:].astype('int'), (L, L))\n",
    "        xy = np.zeros((L, L))\n",
    "        xy[indices] = 1 \n",
    "        im = plt.imshow(xy, animated=True)\n",
    "        plt.axis('off')\n",
    "        ims.append([im])\n",
    "    ani = am.ArtistAnimation(fig, ims, interval=100, blit=True,\n",
    "                                    repeat_delay=1000)\n",
    "    mywriter = am.FFMpegWriter()\n",
    "    ani.save(\"movie_{}.mp4\".format(i), writer=mywriter)\n",
    "    plt.close()"
   ]
  },
  {
   "cell_type": "code",
   "execution_count": null,
   "id": "3e030f35",
   "metadata": {},
   "outputs": [],
   "source": []
  },
  {
   "cell_type": "code",
   "execution_count": null,
   "id": "ed41ae2c",
   "metadata": {},
   "outputs": [],
   "source": []
  }
 ],
 "metadata": {
  "kernelspec": {
   "display_name": "Python 3",
   "language": "python",
   "name": "python3"
  },
  "language_info": {
   "codemirror_mode": {
    "name": "ipython",
    "version": 3
   },
   "file_extension": ".py",
   "mimetype": "text/x-python",
   "name": "python",
   "nbconvert_exporter": "python",
   "pygments_lexer": "ipython3",
   "version": "3.7.9"
  }
 },
 "nbformat": 4,
 "nbformat_minor": 5
}
