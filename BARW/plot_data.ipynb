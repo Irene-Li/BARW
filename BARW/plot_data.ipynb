{
 "cells": [
  {
   "cell_type": "code",
   "execution_count": 2,
   "id": "0ae7e6f0",
   "metadata": {},
   "outputs": [],
   "source": [
    "import numpy as np\n",
    "from matplotlib import pyplot as plt\n",
    "from matplotlib import animation as am"
   ]
  },
  {
   "cell_type": "code",
   "execution_count": 8,
   "id": "0d861a29",
   "metadata": {},
   "outputs": [
    {
     "name": "stdout",
     "output_type": "stream",
     "text": [
      "#Parameters={ Seed: 5, Branching rate: 0.5, p : 0.5, q : 0.25, Realisations: 100, Chunk size: 100, Dimension: 2, (Max) Lattice size: 255, Graph Type: 0 }\n",
      "\n",
      "#Version: #c925\n",
      "\n",
      "# Running for L = 255\n",
      "\n",
      "# Starting the 0 th realisation \n",
      "\n",
      "# Starting the 1 th realisation \n",
      "\n",
      "# Starting the 2 th realisation \n",
      "\n",
      "# Starting the 3 th realisation \n",
      "\n",
      "# Starting the 4 th realisation \n",
      "\n",
      "# Starting the 5 th realisation \n",
      "\n",
      "# Starting the 6 th realisation \n",
      "\n",
      "# Starting the 7 th realisation \n",
      "\n",
      "# Starting the 8 th realisation \n",
      "\n",
      "# Starting the 9 th realisation \n",
      "\n"
     ]
    }
   ],
   "source": [
    "\n",
    "label = 'h_0.5_p_0.5_q_0.25'\n",
    "file = open(\"data_{}.txt\".format(label))\n",
    "\n",
    "realisations = []\n",
    "flag = True \n",
    "L = 255\n",
    "\n",
    "n = 0 \n",
    "\n",
    "while n < 10: \n",
    "    line = file.readline() \n",
    "    if line[0] == '#':\n",
    "        flag = True \n",
    "        print(line)\n",
    "    else: \n",
    "        if flag:  \n",
    "            new_realisation = [line]\n",
    "            realisations.append(new_realisation)\n",
    "            n += 1 \n",
    "            flag = False\n",
    "        else:\n",
    "            new_realisation.append(line)"
   ]
  },
  {
   "cell_type": "code",
   "execution_count": 9,
   "id": "b241c59a",
   "metadata": {},
   "outputs": [],
   "source": [
    "def extract_evolution(realisation): \n",
    "    evolution = []\n",
    "    edges = [] \n",
    "    passive_flag = False \n",
    "    active_flag = False\n",
    "    for line in realisation:  \n",
    "        if line.startswith('passive'):\n",
    "            passive_indices = np.fromstring(line[8:-1], sep=',')\n",
    "            passive_indices = np.unravel_index(passive_indices.astype('int'), (L, L))\n",
    "            passive_flag = True \n",
    "        elif line.startswith('active'):\n",
    "            active_indices = np.fromstring(line[7:-1], sep=',')\n",
    "            try: \n",
    "                active_indices = np.unravel_index(active_indices.astype('int'), (L, L))\n",
    "            except: \n",
    "                print(line, len(line[7:-1]), repr(line[7:-1]))\n",
    "            active_flag = True \n",
    "        elif line.startswith('edge'): \n",
    "            edges.append(np.fromstring(line[5:-1], sep=','))\n",
    "        else: \n",
    "            snapshot = np.zeros((L, L)) # clear the snapshot for the next time slice \n",
    "            \n",
    "        if passive_flag and active_flag: \n",
    "            snapshot[passive_indices] = 1 # set occupied sites to 1 \n",
    "            snapshot[active_indices] = 2 # set active sites to 2 \n",
    "            evolution.append(snapshot)\n",
    "            passive_flag = False \n",
    "            active_flag = False \n",
    "            \n",
    "    return np.array(edges), np.array(evolution)\n",
    "\n",
    "def make_movies(evolution, label):\n",
    "    fig = plt.figure()\n",
    "    ims = []\n",
    "    plt.axis('off')\n",
    "    for xy in evolution:\n",
    "        im = plt.imshow(xy, animated=True, vmin=0, vmax=2, origin='lower') \n",
    "        plt.axis('off')\n",
    "        ims.append([im])\n",
    "        \n",
    "    ani = am.ArtistAnimation(fig, ims, interval=100, blit=True,\n",
    "                                    repeat_delay=1000)\n",
    "    mywriter = am.FFMpegWriter()\n",
    "    ani.save(\"{}_movie_{}.mp4\".format(label, i), writer=mywriter)\n",
    "    plt.close()  \n",
    "    \n",
    "        "
   ]
  },
  {
   "cell_type": "code",
   "execution_count": 10,
   "id": "b6014c78",
   "metadata": {},
   "outputs": [],
   "source": [
    "for (i, realisation) in enumerate(realisations):\n",
    "    edges, evolution = extract_evolution(realisation) \n",
    "    make_movies(evolution, label)"
   ]
  },
  {
   "cell_type": "code",
   "execution_count": null,
   "id": "42eea4fd",
   "metadata": {},
   "outputs": [],
   "source": []
  },
  {
   "cell_type": "code",
   "execution_count": null,
   "id": "5052019d",
   "metadata": {},
   "outputs": [],
   "source": []
  }
 ],
 "metadata": {
  "kernelspec": {
   "display_name": "Python 3",
   "language": "python",
   "name": "python3"
  },
  "language_info": {
   "codemirror_mode": {
    "name": "ipython",
    "version": 3
   },
   "file_extension": ".py",
   "mimetype": "text/x-python",
   "name": "python",
   "nbconvert_exporter": "python",
   "pygments_lexer": "ipython3",
   "version": "3.7.9"
  }
 },
 "nbformat": 4,
 "nbformat_minor": 5
}
