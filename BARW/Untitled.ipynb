{
 "cells": [
  {
   "cell_type": "code",
   "execution_count": 20,
   "id": "853c57b4",
   "metadata": {},
   "outputs": [
    {
     "name": "stdout",
     "output_type": "stream",
     "text": [
      "0.2\n",
      "0.21000000000000002\n",
      "0.22000000000000003\n",
      "0.23000000000000004\n",
      "0.24000000000000005\n",
      "0.25000000000000006\n",
      "0.26000000000000006\n",
      "0.2700000000000001\n",
      "0.2800000000000001\n",
      "0.2900000000000001\n",
      "0.3000000000000001\n",
      "0.3100000000000001\n",
      "0.3200000000000001\n",
      "0.3300000000000001\n",
      "0.34000000000000014\n",
      "0.35000000000000014\n",
      "0.36000000000000015\n",
      "0.37000000000000016\n",
      "0.38000000000000017\n",
      "0.3900000000000002\n",
      "0.4000000000000002\n",
      "0.4100000000000002\n",
      "0.4200000000000002\n",
      "0.4300000000000002\n",
      "0.4400000000000002\n",
      "0.45000000000000023\n",
      "0.46000000000000024\n",
      "0.47000000000000025\n",
      "0.48000000000000026\n",
      "0.49000000000000027\n",
      "0.5000000000000002\n"
     ]
    }
   ],
   "source": [
    "import numpy as np\n",
    "\n",
    "Ls = [513]\n",
    "N=10000 # number of realisations\n",
    "\n",
    "p=0.34 # prob. of hopping in the same direction as the previous hop \n",
    "q=0.33\n",
    "a=0.75\n",
    "\n",
    "hs = np.arange(0.20, 0.51, 0.01)\n",
    "binders = []\n",
    "\n",
    "for L in Ls: \n",
    "    binder = [] \n",
    "    for h in hs:\n",
    "        print(h)\n",
    "        filename = 'sweep/data_L{}_N{}_p{}_q{}_h{:.2f}_a{}.dat'.format(L, N, p, q, h, a)\n",
    "        file = open(filename)\n",
    "        \n",
    "        with open(filename, \"r+\") as f:\n",
    "            new_f = f.readlines() \n",
    "            f.seek(0)\n",
    "            for line in new_f:\n",
    "                if not line.startswith('time'):\n",
    "                    f.write(line)\n",
    "            f.truncate()"
   ]
  },
  {
   "cell_type": "code",
   "execution_count": 10,
   "id": "f9fbf7a3",
   "metadata": {},
   "outputs": [
    {
     "name": "stdout",
     "output_type": "stream",
     "text": [
      "0.2\n",
      "0.21000000000000002\n",
      "0.22000000000000003\n",
      "0.23000000000000004\n",
      "0.24000000000000005\n",
      "0.25000000000000006\n",
      "0.26000000000000006\n",
      "0.2700000000000001\n",
      "0.2800000000000001\n",
      "0.2900000000000001\n",
      "0.3000000000000001\n",
      "0.3100000000000001\n",
      "0.3200000000000001\n",
      "0.3300000000000001\n",
      "0.34000000000000014\n",
      "0.35000000000000014\n",
      "0.36000000000000015\n",
      "0.37000000000000016\n",
      "0.38000000000000017\n",
      "0.3900000000000002\n",
      "0.4000000000000002\n",
      "0.4100000000000002\n",
      "0.4200000000000002\n",
      "0.4300000000000002\n",
      "0.4400000000000002\n",
      "0.45000000000000023\n",
      "0.46000000000000024\n",
      "0.47000000000000025\n",
      "0.48000000000000026\n",
      "0.49000000000000027\n"
     ]
    }
   ],
   "source": [
    "import os \n",
    "\n",
    "Ls = [1025]\n",
    "N=10000 # number of realisations\n",
    "\n",
    "p=0.5 # prob. of hopping in the same direction as the previous hop \n",
    "q=0.25\n",
    "a=1 \n",
    "\n",
    "hs = np.arange(0.2, 0.5, 0.01)\n",
    "binders = [] \n",
    "\n",
    "for L in Ls: \n",
    "    binder = [] \n",
    "    for h in hs:\n",
    "        print(h)\n",
    "        f1 = 'sweep/data_L{}_N{}_p{}_q{}_h{:.2f}.dat'.format(L, N, p, q, h)\n",
    "        f2 = 'sweep/data_L{}_N{}_p{}_q{}_h{:.2f}_a1.dat'.format(L, N, p, q, h)\n",
    "        \n",
    "        os.rename(f1, f2)\n",
    "       "
   ]
  },
  {
   "cell_type": "code",
   "execution_count": 2,
   "id": "7e35070d",
   "metadata": {},
   "outputs": [],
   "source": [
    "alpha = 0.1 \n",
    "m4 = alpha*1 + (1-alpha)*16\n",
    "m2 = alpha*1 + (1-alpha)*4"
   ]
  },
  {
   "cell_type": "code",
   "execution_count": 5,
   "id": "8884d280",
   "metadata": {},
   "outputs": [
    {
     "data": {
      "text/plain": [
       "0.6469442415388362"
      ]
     },
     "execution_count": 5,
     "metadata": {},
     "output_type": "execute_result"
    }
   ],
   "source": [
    "1-m4/(3*m2**2)"
   ]
  },
  {
   "cell_type": "code",
   "execution_count": null,
   "id": "9840fb13",
   "metadata": {},
   "outputs": [],
   "source": []
  }
 ],
 "metadata": {
  "kernelspec": {
   "display_name": "Python 3",
   "language": "python",
   "name": "python3"
  },
  "language_info": {
   "codemirror_mode": {
    "name": "ipython",
    "version": 3
   },
   "file_extension": ".py",
   "mimetype": "text/x-python",
   "name": "python",
   "nbconvert_exporter": "python",
   "pygments_lexer": "ipython3",
   "version": "3.7.9"
  }
 },
 "nbformat": 4,
 "nbformat_minor": 5
}
