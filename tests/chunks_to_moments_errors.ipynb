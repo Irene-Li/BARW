{
 "cells": [
  {
   "cell_type": "code",
   "execution_count": 1,
   "metadata": {
    "collapsed": false
   },
   "outputs": [
    {
     "ename": "KeyError",
     "evalue": "\"['L' 't' 'chunk' 'M1' 'M2' 'M3' 'M4' 'M5' 'M6' 'M7' 'M8'] not in index\"",
     "output_type": "error",
     "traceback": [
      "\u001b[1;31m---------------------------------------------------------------------------\u001b[0m",
      "\u001b[1;31mKeyError\u001b[0m                                  Traceback (most recent call last)",
      "\u001b[1;32m<ipython-input-1-ac6aa0ad790b>\u001b[0m in \u001b[0;36m<module>\u001b[1;34m()\u001b[0m\n\u001b[0;32m      8\u001b[0m \u001b[1;33m\u001b[0m\u001b[0m\n\u001b[0;32m      9\u001b[0m \u001b[1;31m# 2) Filter moments out\u001b[0m\u001b[1;33m\u001b[0m\u001b[1;33m\u001b[0m\u001b[0m\n\u001b[1;32m---> 10\u001b[1;33m \u001b[0mmoments\u001b[0m \u001b[1;33m=\u001b[0m \u001b[0mrawdata\u001b[0m\u001b[1;33m[\u001b[0m\u001b[1;33m[\u001b[0m\u001b[1;34m\"L\"\u001b[0m\u001b[1;33m,\u001b[0m \u001b[1;34m\"t\"\u001b[0m\u001b[1;33m,\u001b[0m \u001b[1;34m\"chunk\"\u001b[0m\u001b[1;33m,\u001b[0m \u001b[1;34m\"M1\"\u001b[0m\u001b[1;33m,\u001b[0m \u001b[1;34m\"M2\"\u001b[0m\u001b[1;33m,\u001b[0m \u001b[1;34m\"M3\"\u001b[0m\u001b[1;33m,\u001b[0m \u001b[1;34m\"M4\"\u001b[0m\u001b[1;33m,\u001b[0m \u001b[1;34m\"M5\"\u001b[0m\u001b[1;33m,\u001b[0m \u001b[1;34m\"M6\"\u001b[0m\u001b[1;33m,\u001b[0m \u001b[1;34m\"M7\"\u001b[0m\u001b[1;33m,\u001b[0m \u001b[1;34m\"M8\"\u001b[0m\u001b[1;33m]\u001b[0m\u001b[1;33m]\u001b[0m\u001b[1;33m\u001b[0m\u001b[0m\n\u001b[0m\u001b[0;32m     11\u001b[0m \u001b[1;33m\u001b[0m\u001b[0m\n\u001b[0;32m     12\u001b[0m \u001b[1;31m# 3) Compute mean, standard error of the mean for each moment vs time, and save into a file\u001b[0m\u001b[1;33m\u001b[0m\u001b[1;33m\u001b[0m\u001b[0m\n",
      "\u001b[1;32m/usr/local/lib/python2.7/dist-packages/pandas/core/frame.pyc\u001b[0m in \u001b[0;36m__getitem__\u001b[1;34m(self, key)\u001b[0m\n\u001b[0;32m   2049\u001b[0m         \u001b[1;32mif\u001b[0m \u001b[0misinstance\u001b[0m\u001b[1;33m(\u001b[0m\u001b[0mkey\u001b[0m\u001b[1;33m,\u001b[0m \u001b[1;33m(\u001b[0m\u001b[0mSeries\u001b[0m\u001b[1;33m,\u001b[0m \u001b[0mnp\u001b[0m\u001b[1;33m.\u001b[0m\u001b[0mndarray\u001b[0m\u001b[1;33m,\u001b[0m \u001b[0mIndex\u001b[0m\u001b[1;33m,\u001b[0m \u001b[0mlist\u001b[0m\u001b[1;33m)\u001b[0m\u001b[1;33m)\u001b[0m\u001b[1;33m:\u001b[0m\u001b[1;33m\u001b[0m\u001b[0m\n\u001b[0;32m   2050\u001b[0m             \u001b[1;31m# either boolean or fancy integer index\u001b[0m\u001b[1;33m\u001b[0m\u001b[1;33m\u001b[0m\u001b[0m\n\u001b[1;32m-> 2051\u001b[1;33m             \u001b[1;32mreturn\u001b[0m \u001b[0mself\u001b[0m\u001b[1;33m.\u001b[0m\u001b[0m_getitem_array\u001b[0m\u001b[1;33m(\u001b[0m\u001b[0mkey\u001b[0m\u001b[1;33m)\u001b[0m\u001b[1;33m\u001b[0m\u001b[0m\n\u001b[0m\u001b[0;32m   2052\u001b[0m         \u001b[1;32melif\u001b[0m \u001b[0misinstance\u001b[0m\u001b[1;33m(\u001b[0m\u001b[0mkey\u001b[0m\u001b[1;33m,\u001b[0m \u001b[0mDataFrame\u001b[0m\u001b[1;33m)\u001b[0m\u001b[1;33m:\u001b[0m\u001b[1;33m\u001b[0m\u001b[0m\n\u001b[0;32m   2053\u001b[0m             \u001b[1;32mreturn\u001b[0m \u001b[0mself\u001b[0m\u001b[1;33m.\u001b[0m\u001b[0m_getitem_frame\u001b[0m\u001b[1;33m(\u001b[0m\u001b[0mkey\u001b[0m\u001b[1;33m)\u001b[0m\u001b[1;33m\u001b[0m\u001b[0m\n",
      "\u001b[1;32m/usr/local/lib/python2.7/dist-packages/pandas/core/frame.pyc\u001b[0m in \u001b[0;36m_getitem_array\u001b[1;34m(self, key)\u001b[0m\n\u001b[0;32m   2093\u001b[0m             \u001b[1;32mreturn\u001b[0m \u001b[0mself\u001b[0m\u001b[1;33m.\u001b[0m\u001b[0mtake\u001b[0m\u001b[1;33m(\u001b[0m\u001b[0mindexer\u001b[0m\u001b[1;33m,\u001b[0m \u001b[0maxis\u001b[0m\u001b[1;33m=\u001b[0m\u001b[1;36m0\u001b[0m\u001b[1;33m,\u001b[0m \u001b[0mconvert\u001b[0m\u001b[1;33m=\u001b[0m\u001b[0mFalse\u001b[0m\u001b[1;33m)\u001b[0m\u001b[1;33m\u001b[0m\u001b[0m\n\u001b[0;32m   2094\u001b[0m         \u001b[1;32melse\u001b[0m\u001b[1;33m:\u001b[0m\u001b[1;33m\u001b[0m\u001b[0m\n\u001b[1;32m-> 2095\u001b[1;33m             \u001b[0mindexer\u001b[0m \u001b[1;33m=\u001b[0m \u001b[0mself\u001b[0m\u001b[1;33m.\u001b[0m\u001b[0mix\u001b[0m\u001b[1;33m.\u001b[0m\u001b[0m_convert_to_indexer\u001b[0m\u001b[1;33m(\u001b[0m\u001b[0mkey\u001b[0m\u001b[1;33m,\u001b[0m \u001b[0maxis\u001b[0m\u001b[1;33m=\u001b[0m\u001b[1;36m1\u001b[0m\u001b[1;33m)\u001b[0m\u001b[1;33m\u001b[0m\u001b[0m\n\u001b[0m\u001b[0;32m   2096\u001b[0m             \u001b[1;32mreturn\u001b[0m \u001b[0mself\u001b[0m\u001b[1;33m.\u001b[0m\u001b[0mtake\u001b[0m\u001b[1;33m(\u001b[0m\u001b[0mindexer\u001b[0m\u001b[1;33m,\u001b[0m \u001b[0maxis\u001b[0m\u001b[1;33m=\u001b[0m\u001b[1;36m1\u001b[0m\u001b[1;33m,\u001b[0m \u001b[0mconvert\u001b[0m\u001b[1;33m=\u001b[0m\u001b[0mTrue\u001b[0m\u001b[1;33m)\u001b[0m\u001b[1;33m\u001b[0m\u001b[0m\n\u001b[0;32m   2097\u001b[0m \u001b[1;33m\u001b[0m\u001b[0m\n",
      "\u001b[1;32m/usr/local/lib/python2.7/dist-packages/pandas/core/indexing.pyc\u001b[0m in \u001b[0;36m_convert_to_indexer\u001b[1;34m(self, obj, axis, is_setter)\u001b[0m\n\u001b[0;32m   1227\u001b[0m                 \u001b[0mmask\u001b[0m \u001b[1;33m=\u001b[0m \u001b[0mcheck\u001b[0m \u001b[1;33m==\u001b[0m \u001b[1;33m-\u001b[0m\u001b[1;36m1\u001b[0m\u001b[1;33m\u001b[0m\u001b[0m\n\u001b[0;32m   1228\u001b[0m                 \u001b[1;32mif\u001b[0m \u001b[0mmask\u001b[0m\u001b[1;33m.\u001b[0m\u001b[0many\u001b[0m\u001b[1;33m(\u001b[0m\u001b[1;33m)\u001b[0m\u001b[1;33m:\u001b[0m\u001b[1;33m\u001b[0m\u001b[0m\n\u001b[1;32m-> 1229\u001b[1;33m                     \u001b[1;32mraise\u001b[0m \u001b[0mKeyError\u001b[0m\u001b[1;33m(\u001b[0m\u001b[1;34m'%s not in index'\u001b[0m \u001b[1;33m%\u001b[0m \u001b[0mobjarr\u001b[0m\u001b[1;33m[\u001b[0m\u001b[0mmask\u001b[0m\u001b[1;33m]\u001b[0m\u001b[1;33m)\u001b[0m\u001b[1;33m\u001b[0m\u001b[0m\n\u001b[0m\u001b[0;32m   1230\u001b[0m \u001b[1;33m\u001b[0m\u001b[0m\n\u001b[0;32m   1231\u001b[0m                 \u001b[1;32mreturn\u001b[0m \u001b[0m_values_from_object\u001b[0m\u001b[1;33m(\u001b[0m\u001b[0mindexer\u001b[0m\u001b[1;33m)\u001b[0m\u001b[1;33m\u001b[0m\u001b[0m\n",
      "\u001b[1;31mKeyError\u001b[0m: \"['L' 't' 'chunk' 'M1' 'M2' 'M3' 'M4' 'M5' 'M6' 'M7' 'M8'] not in index\""
     ]
    }
   ],
   "source": [
    "import pandas as pd #this is for tabular data munging\n",
    "import numpy as np#\n",
    "import glob # file listings\n",
    "\n",
    "# 1) Read Data into dataframe\n",
    "filename = \"bws_h_1e-3_N1e5_L63.out\"\n",
    "rawdata = pd.read_csv(filename, sep = \"\\t\", comment = '#', dtype={'M4': float, 'M5': float, 'M6': float, 'M7': float, 'M8': float})\n",
    "\n",
    "# 2) Filter moments out\n",
    "moments = rawdata[[\"L\", \"t\", \"chunk\", \"M1\", \"M2\", \"M3\", \"M4\", \"M5\", \"M6\", \"M7\", \"M8\"]]\n",
    "\n",
    "# 3) Compute mean, standard error of the mean for each moment vs time, and save into a file\n",
    "time=(moments[(moments['chunk']==1) & (moments['L']==63)]).ix[:,\"t\"] #make sure this value of L is in the source file***\n",
    "for L in moments[\"L\"].unique():\n",
    "    result = []\n",
    "    result.append(time)\n",
    "    for M in (\"M1\",\"M2\",\"M3\",\"M4\",\"M5\",\"M6\", \"M7\", \"M8\"):\n",
    "        print M, L\n",
    "        alldfs = []\n",
    "        for i in range(1,1000): # Not 1000, but maximum of chunk number\n",
    "            dfi = (moments[(moments['chunk']==i) & (moments['L']==L)]).reset_index().ix[:,M]\n",
    "            alldfs.append(dfi) #append time series to alldfs\n",
    "        ndf = pd.concat(alldfs,axis=1,ignore_index=True)\n",
    "        \n",
    "        [rows,N] = ndf.shape\n",
    "        dfmean = np.mean(ndf,axis=1) #compute the columns of mean values\n",
    "        dfstd = np.std(ndf,axis=1) #compute the column of variances\n",
    "        error = dfstd/np.sqrt(N) #compute the column of errors\n",
    "        result.append(dfmean) #copy the column of means\n",
    "        result.append(error) #copy the column of errors\n",
    "    df = pd.DataFrame(result).transpose()\n",
    "    df['#L'] = L\n",
    "    df.columns=['time','1mom','1mom_err','2mom','2mom_err','3mom','3mom_err','4mom','4mom_err','5mom','5mom_err','6mom','6mom_err','7mom','7mom_err','8mom','8mom_err', '#L']\n",
    "    cols = df.columns.tolist()\n",
    "    cols = cols[-1:] + cols[:-1]\n",
    "    df = df[cols]  #    OR    df = df.ix[:, cols]\n",
    "    df.to_csv('./2D_L'+str(L)+'_visited_sites_moments_errors_'+filename,sep='\\t',index=False) #save in file#result\n",
    "\n",
    "# 4) extract last line: mean, standard error of the mean for each moment vs L, and save into a file\n",
    "alldfs = []\n",
    "for f in glob.glob('./*_visited_sites_moments_errors'+filename): #iterate through all the files containing *time_moments*\n",
    "    df = pd.read_csv(f, sep=\"\\t\") #read the file\n",
    "    [rows,cols]=df.shape\n",
    "    dfi = df[df['time']==100000000].reset_index() #extract last row\n",
    "    alldfs.append(dfi) #append time series to alldfs\n",
    "\n",
    "ndf = pd.concat(alldfs)\n",
    "ndf=ndf.drop('index',1)\n",
    "ndf=ndf.drop('time',1)\n",
    "ndf=ndf.sort(['#L'])\n",
    "ndf.to_csv('./2D_totalvisitedsites_moments_errors_vs_L'+filename,sep='\\t',index=False) #save in file#result"
   ]
  },
  {
   "cell_type": "code",
   "execution_count": null,
   "metadata": {
    "collapsed": false,
    "scrolled": true
   },
   "outputs": [],
   "source": [
    "dfi"
   ]
  },
  {
   "cell_type": "code",
   "execution_count": 17,
   "metadata": {
    "collapsed": false
   },
   "outputs": [
    {
     "data": {
      "text/html": [
       "<div>\n",
       "<table border=\"1\" class=\"dataframe\">\n",
       "  <thead>\n",
       "    <tr style=\"text-align: right;\">\n",
       "      <th></th>\n",
       "      <th>#L</th>\n",
       "      <th>time</th>\n",
       "      <th>1mom</th>\n",
       "      <th>1mom_err</th>\n",
       "      <th>2mom</th>\n",
       "      <th>2mom_err</th>\n",
       "      <th>3mom</th>\n",
       "      <th>3mom_err</th>\n",
       "      <th>4mom</th>\n",
       "      <th>4mom_err</th>\n",
       "      <th>5mom</th>\n",
       "      <th>5mom_err</th>\n",
       "      <th>6mom</th>\n",
       "      <th>6mom_err</th>\n",
       "      <th>7mom</th>\n",
       "      <th>7mom_err</th>\n",
       "      <th>8mom</th>\n",
       "      <th>8mom_err</th>\n",
       "    </tr>\n",
       "  </thead>\n",
       "  <tbody>\n",
       "    <tr>\n",
       "      <th>0</th>\n",
       "      <td>63</td>\n",
       "      <td>100000000.0</td>\n",
       "      <td>4940.0</td>\n",
       "      <td>0.0</td>\n",
       "      <td>745330.0</td>\n",
       "      <td>0.0</td>\n",
       "      <td>2.844390e+08</td>\n",
       "      <td>0.0</td>\n",
       "      <td>1.224884e+11</td>\n",
       "      <td>0.0</td>\n",
       "      <td>5.438482e+13</td>\n",
       "      <td>0.0</td>\n",
       "      <td>2.441541e+16</td>\n",
       "      <td>0.0</td>\n",
       "      <td>1.101979e+19</td>\n",
       "      <td>0.0</td>\n",
       "      <td>4.990253e+21</td>\n",
       "      <td>0.0</td>\n",
       "    </tr>\n",
       "    <tr>\n",
       "      <th>0</th>\n",
       "      <td>127</td>\n",
       "      <td>100000000.0</td>\n",
       "      <td>8420.0</td>\n",
       "      <td>0.0</td>\n",
       "      <td>17423598.0</td>\n",
       "      <td>0.0</td>\n",
       "      <td>6.825056e+10</td>\n",
       "      <td>0.0</td>\n",
       "      <td>2.766279e+14</td>\n",
       "      <td>0.0</td>\n",
       "      <td>1.126677e+18</td>\n",
       "      <td>0.0</td>\n",
       "      <td>4.592634e+21</td>\n",
       "      <td>0.0</td>\n",
       "      <td>1.872355e+25</td>\n",
       "      <td>0.0</td>\n",
       "      <td>7.633545e+28</td>\n",
       "      <td>0.0</td>\n",
       "    </tr>\n",
       "  </tbody>\n",
       "</table>\n",
       "</div>"
      ],
      "text/plain": [
       "    #L         time    1mom  1mom_err        2mom  2mom_err          3mom  \\\n",
       "0   63  100000000.0  4940.0       0.0    745330.0       0.0  2.844390e+08   \n",
       "0  127  100000000.0  8420.0       0.0  17423598.0       0.0  6.825056e+10   \n",
       "\n",
       "   3mom_err          4mom  4mom_err          5mom  5mom_err          6mom  \\\n",
       "0       0.0  1.224884e+11       0.0  5.438482e+13       0.0  2.441541e+16   \n",
       "0       0.0  2.766279e+14       0.0  1.126677e+18       0.0  4.592634e+21   \n",
       "\n",
       "   6mom_err          7mom  7mom_err          8mom  8mom_err  \n",
       "0       0.0  1.101979e+19       0.0  4.990253e+21       0.0  \n",
       "0       0.0  1.872355e+25       0.0  7.633545e+28       0.0  "
      ]
     },
     "execution_count": 17,
     "metadata": {},
     "output_type": "execute_result"
    }
   ],
   "source": [
    "ndf"
   ]
  },
  {
   "cell_type": "code",
   "execution_count": null,
   "metadata": {
    "collapsed": true
   },
   "outputs": [],
   "source": []
  }
 ],
 "metadata": {
  "kernelspec": {
   "display_name": "Python 2",
   "language": "python",
   "name": "python2"
  },
  "language_info": {
   "codemirror_mode": {
    "name": "ipython",
    "version": 2
   },
   "file_extension": ".py",
   "mimetype": "text/x-python",
   "name": "python",
   "nbconvert_exporter": "python",
   "pygments_lexer": "ipython2",
   "version": "2.7.9"
  }
 },
 "nbformat": 4,
 "nbformat_minor": 1
}
